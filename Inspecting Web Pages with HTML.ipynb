{
 "cells": [
  {
   "cell_type": "markdown",
   "id": "a9a85e8b-cd87-40e7-bca8-753a0b399712",
   "metadata": {},
   "source": [
    "HTML and Inspecting a Web Page\n",
    "\n",
    "<html>\n",
    "<head>\n",
    "    <title>My Basic HTML</title>\n",
    "</head>\n",
    "<body>\n",
    "    <h1>Hello, World!</h1>\n",
    "    <p>This is a simple HTML page.</p>\n",
    "</body>\n",
    "</html>\n",
    "\n",
    "Explanation- \n",
    "<html>: The root element of the HTML document.\n",
    "<head>: Contains meta-information about the document (like the title).\n",
    "<title>: Sets the title of the page (visible in the browser tab).\n",
    "<body>: Contains the visible content of the webpage.\n",
    "<h1>: A heading tag (largest size).\n",
    "<p>: A paragraph tag\n",
    "https://www.scrapethissite.com/pages/forms/"
   ]
  },
  {
   "cell_type": "code",
   "execution_count": null,
   "id": "bfb37b2c-f6f8-4c17-85b7-3438c431b7d7",
   "metadata": {},
   "outputs": [],
   "source": []
  },
  {
   "cell_type": "code",
   "execution_count": null,
   "id": "6c5d7314-1909-455b-bee3-2802102040dd",
   "metadata": {},
   "outputs": [],
   "source": []
  }
 ],
 "metadata": {
  "kernelspec": {
   "display_name": "Python 3 (ipykernel)",
   "language": "python",
   "name": "python3"
  },
  "language_info": {
   "codemirror_mode": {
    "name": "ipython",
    "version": 3
   },
   "file_extension": ".py",
   "mimetype": "text/x-python",
   "name": "python",
   "nbconvert_exporter": "python",
   "pygments_lexer": "ipython3",
   "version": "3.12.7"
  }
 },
 "nbformat": 4,
 "nbformat_minor": 5
}
